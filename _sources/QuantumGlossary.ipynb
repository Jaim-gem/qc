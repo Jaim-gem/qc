{
 "cells": [
  {
   "cell_type": "markdown",
   "id": "541975d8",
   "metadata": {},
   "source": [
    "(q-glossary)=\n",
    "# **A Quantum Glossary**\n",
    "&nbsp;"
   ]
  },
  {
   "cell_type": "markdown",
   "id": "ea32e965",
   "metadata": {},
   "source": [
    "Here are some of the terms that we've encountered. "
   ]
  },
  {
   "cell_type": "markdown",
   "id": "4868ef4e",
   "metadata": {},
   "source": [
    "## Diffraction\n",
    " \n",
    "This is the *spreading out* of a wave as it encounters the edge of a barrier.<br>\n",
    " Think about how the light in a corridor spreads out into a dark room whose door is slightly ajar. "
   ]
  },
  {
   "cell_type": "markdown",
   "id": "458345e6",
   "metadata": {},
   "source": [
    "## Entanglement \n",
    " \n",
    "A phenomenon whereby two or more quantum objects cannot be *mathematically described* separate from each other. It is associated with strange quantum correlations, irrespective of spatial distance separating the objects."
   ]
  },
  {
   "cell_type": "markdown",
   "id": "f093aa07",
   "metadata": {},
   "source": [
    "## Interference \n",
    " \n",
    "This is when waves can add up and/or cancel each other out.<br> \n",
    "If waves are *in phase*, they add to each other. If they are *out of phase*, they cancel each other. "
   ]
  },
  {
   "cell_type": "markdown",
   "id": "3f2b6fd3",
   "metadata": {},
   "source": [
    "## Quantum algorithm\n",
    "Definition: A sequence of computational steps for a quantum computer to follow. "
   ]
  },
  {
   "cell_type": "markdown",
   "id": "7accc4a2",
   "metadata": {},
   "source": [
    "## Quantum Mechanics\n",
    "The *mathematical* and *physical* theory developed to describe the behaviours of quantum objects and systems. "
   ]
  },
  {
   "cell_type": "markdown",
   "id": "71bc23f9",
   "metadata": {},
   "source": [
    "## Qubit \n",
    "A qubit is a *quantum bit*. A quantum bit is the basic unit of *quantum information* and essentially, the building blocks of quantum computers. "
   ]
  },
  {
   "cell_type": "markdown",
   "id": "35832ba7",
   "metadata": {},
   "source": [
    "## State\n",
    "The *state* of a *physical* object is simply its description in a particular context/setting. "
   ]
  },
  {
   "cell_type": "markdown",
   "id": "0f578530",
   "metadata": {},
   "source": [
    "## Superposition \n",
    "\n",
    "The ability of *quantum objects* to be in two or more, measurably distinct states *at the same time*.   "
   ]
  },
  {
   "cell_type": "markdown",
   "id": "84d38101",
   "metadata": {},
   "source": [
    "## Wave-function \n",
    "The *mathematical function* that describes the *state* of a quantum object/system. "
   ]
  },
  {
   "cell_type": "markdown",
   "id": "db3210e3",
   "metadata": {},
   "source": [
    "## Wave-function collapse\n",
    "This refers to a phenomenon that occurs when quantum objects/systems are observed or measured. Wave-function collapse is the *reduction* of a superposed state to one of the measurable states. "
   ]
  },
  {
   "cell_type": "markdown",
   "id": "727c9df3",
   "metadata": {},
   "source": [
    "## Wave-particle duality \n",
    "\n",
    "The ability of tiny objects to display both *wave*-behaviour and *particulate* behaviour in different experimental settings. The idea of wave-particle duality revolutionized Physics. "
   ]
  }
 ],
 "metadata": {
  "kernelspec": {
   "display_name": "Python 3 (ipykernel)",
   "language": "python",
   "name": "python3"
  },
  "language_info": {
   "codemirror_mode": {
    "name": "ipython",
    "version": 3
   },
   "file_extension": ".py",
   "mimetype": "text/x-python",
   "name": "python",
   "nbconvert_exporter": "python",
   "pygments_lexer": "ipython3",
   "version": "3.8.12"
  }
 },
 "nbformat": 4,
 "nbformat_minor": 5
}
