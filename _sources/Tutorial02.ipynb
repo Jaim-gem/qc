{
 "cells": [
  {
   "cell_type": "markdown",
   "id": "4efef85e",
   "metadata": {},
   "source": [
    "# Tutorial B: More Single Qubit Gates"
   ]
  },
  {
   "cell_type": "markdown",
   "id": "b395dd0d",
   "metadata": {},
   "source": [
    "In this short tutorial, we'll cover more quantum gates. \n",
    "\n",
    "## Objectives: \n",
    "- to apply the two other Pauli Gates. \n",
    "- to apply gates with parameters and other phase gates.\n",
    "&nbsp; "
   ]
  },
  {
   "cell_type": "markdown",
   "id": "088e6ceb",
   "metadata": {},
   "source": [
    "**Importing Modules**"
   ]
  },
  {
   "cell_type": "code",
   "execution_count": 1,
   "id": "d80b9118",
   "metadata": {},
   "outputs": [],
   "source": [
    "from qiskit import *\n",
    "from qiskit.visualization import *"
   ]
  },
  {
   "cell_type": "markdown",
   "id": "484d837f",
   "metadata": {},
   "source": [
    "In Tutorial A, we covered only two: the `X` gate and the `Hadamard` gate. There are more quantum gates to explore, so let's go through a few ones now. \n",
    "\n",
    "## 1. Pauli Gates \n",
    "\n",
    "The `X` gate is grouped with two other gates, namely the `Y` gate and the `Z` gate. Together with the `Identity` operator, these are called **Pauli gates**. We will test these out now. "
   ]
  },
  {
   "cell_type": "code",
   "execution_count": 2,
   "id": "a16e18c6",
   "metadata": {},
   "outputs": [
    {
     "data": {
      "image/png": "[encoded data removed]",
      "text/plain": [
       "<Figure size 133.526x84.28 with 1 Axes>"
      ]
     },
     "execution_count": 2,
     "metadata": {},
     "output_type": "execute_result"
    }
   ],
   "source": [
    "ycircuit=QuantumCircuit(1)\n",
    "ycircuit.y(0)\n",
    "ycircuit.draw(output='mpl')"
   ]
  },
  {
   "cell_type": "markdown",
   "id": "17d87225",
   "metadata": {},
   "source": [
    "Above, we've created a quantum circuit with a `Y` gate. Let's visualize what happens. "
   ]
  },
  {
   "cell_type": "code",
   "execution_count": null,
   "id": "c16d6c61",
   "metadata": {},
   "outputs": [],
   "source": [
    "visualize_transition(ycircuit, trace=True, saveas=None, fpg=25, spg=2)"
   ]
  },
  {
   "cell_type": "markdown",
   "id": "559d3049",
   "metadata": {},
   "source": [
    "Let's compare to the `X` gate that we had before. "
   ]
  },
  {
   "cell_type": "code",
   "execution_count": null,
   "id": "aaea08fd",
   "metadata": {
    "scrolled": true
   },
   "outputs": [],
   "source": [
    "xcircuit=QuantumCircuit(1)\n",
    "xcircuit.x(0)\n",
    "visualize_transition(xcircuit,trace=True, saveas=None, fpg=25, spg=2)"
   ]
  },
  {
   "cell_type": "markdown",
   "id": "8819bc5c",
   "metadata": {},
   "source": [
    "Well, we see that the qubit state goes from $|0\\rangle$ to $|1\\rangle$ when both gates are applied. *There's just one difference...* The trace the vector makes in the transition. \n",
    "\n",
    "Let's verify this by applying each gate twice. "
   ]
  },
  {
   "cell_type": "code",
   "execution_count": null,
   "id": "65bb4a87",
   "metadata": {
    "scrolled": true
   },
   "outputs": [],
   "source": [
    "xcircuit=QuantumCircuit(1)\n",
    "xcircuit.x(0)\n",
    "xcircuit.x(0)\n",
    "visualize_transition(xcircuit,trace=True, saveas=None, fpg=25, spg=2)"
   ]
  },
  {
   "cell_type": "code",
   "execution_count": null,
   "id": "331ffb18",
   "metadata": {},
   "outputs": [],
   "source": [
    "ycircuit=QuantumCircuit(1)\n",
    "ycircuit.y(0)\n",
    "ycircuit.y(0)\n",
    "visualize_transition(ycircuit,trace=True, saveas=None, fpg=25, spg=2)"
   ]
  },
  {
   "cell_type": "markdown",
   "id": "b64fe0b0",
   "metadata": {},
   "source": [
    "You may have noticed that the `X` gate causes a rotation about the x axis, whilst the `Y` gate causes a rotation about the y axis.<br> \n",
    "Let's examine the `Z` gate now. "
   ]
  },
  {
   "cell_type": "code",
   "execution_count": null,
   "id": "96a80c6a",
   "metadata": {
    "scrolled": true
   },
   "outputs": [],
   "source": [
    "zcircuit=QuantumCircuit(1)\n",
    "zcircuit.z(0)\n",
    "zcircuit.draw(output='mpl')"
   ]
  },
  {
   "cell_type": "code",
   "execution_count": null,
   "id": "f2ea3b44",
   "metadata": {},
   "outputs": [],
   "source": [
    "visualize_transition(zcircuit, trace=True, saveas=None, fpg=25, spg=2)"
   ]
  },
  {
   "cell_type": "markdown",
   "id": "2b5fc25b",
   "metadata": {},
   "source": [
    "You'll notice no transition as the measurement axis for the qubit states $|0\\rangle$ and $|1\\rangle$ are on the z axis. A rotation about the z axis would mean that the vector is spinning on itself. \n",
    "\n",
    "To visualize a transition with the `Z` gate, we'll place the qubit state at an angle. We'll use the `Hadamard` to place the qubit in superposition, then apply the `Z` gate.  "
   ]
  },
  {
   "cell_type": "code",
   "execution_count": null,
   "id": "cade0747",
   "metadata": {
    "scrolled": true
   },
   "outputs": [],
   "source": [
    "zcircuit=QuantumCircuit(1)\n",
    "zcircuit.h(0)\n",
    "zcircuit.z(0)\n",
    "zcircuit.draw(output='mpl')"
   ]
  },
  {
   "cell_type": "code",
   "execution_count": null,
   "id": "ce374049",
   "metadata": {
    "scrolled": true
   },
   "outputs": [],
   "source": [
    "visualize_transition(zcircuit, trace=True, saveas=None, fpg=25, spg=2)"
   ]
  },
  {
   "cell_type": "markdown",
   "id": "720d15f6",
   "metadata": {},
   "source": [
    "The light blue trace represents the z axis rotation.<br> \n",
    "**Great!** We've seen two more gates. <br> \n",
    "\n",
    "### Short Quiz  \n",
    "\n",
    "**Can you think of a sequence of two gates that will allow the qubit to end up in the same state as above?** <br> \n",
    "\n",
    "Test it out in the space below then click to reveal the answer. "
   ]
  },
  {
   "cell_type": "code",
   "execution_count": null,
   "id": "662a283a",
   "metadata": {},
   "outputs": [],
   "source": [
    "test_circuit=QuantumCircuit(1)\n",
    "\n",
    "# Write your code here to add two of the four gates that we've learnt to the quantum circuit # \n",
    "\n",
    "# visualize_transition(test_circuit, trace=True, saveas=None, fpg=25, spg=2)  #Remove the first '#' on this line"
   ]
  },
  {
   "cell_type": "markdown",
   "id": "42a30afe",
   "metadata": {},
   "source": [
    "```{toggle}\n",
    "\n",
    "**Answer:** Apply first the X gate followed by the Hadamard gate to get the $|0\\rangle -|1\\rangle$ state. \n",
    "\n",
    "```"
   ]
  },
  {
   "cell_type": "markdown",
   "id": "9d2e5867",
   "metadata": {},
   "source": [
    "## 2. Other Gates "
   ]
  },
  {
   "cell_type": "markdown",
   "id": "d9c83f0e",
   "metadata": {},
   "source": [
    "### Coding Exercise # 1\n",
    "Use the space below to test the following gates: the **S** gate with `s()` and **T** gate with `t()`. \n",
    "\n",
    "**Hint:**\n",
    "```{toggle}\n",
    "\n",
    "Try applying a certain gate before to be able to visualize a transition for the s and t gates.\n",
    "\n",
    "```"
   ]
  },
  {
   "cell_type": "code",
   "execution_count": null,
   "id": "0d5cd783",
   "metadata": {},
   "outputs": [],
   "source": [
    "scircuit=QuantumCircuit(1)\n",
    "\n",
    "# Write code to visualize the S gate transition #\n",
    "\n",
    "#visualize_transition(scircuit, trace=True, saveas=None, fpg=25, spg=2)  #Remove the first '#' on this line"
   ]
  },
  {
   "cell_type": "code",
   "execution_count": null,
   "id": "9396d5dc",
   "metadata": {},
   "outputs": [],
   "source": [
    "tcircuit=QuantumCircuit(1)\n",
    "\n",
    "# Write code to visualize the S gate transition #\n",
    "\n",
    "#visualize_transition(tcircuit, trace=True, saveas=None, fpg=25, spg=2)  #Remove the first '#' on this line"
   ]
  },
  {
   "cell_type": "markdown",
   "id": "c43aa3aa",
   "metadata": {},
   "source": [
    "**What you should see:**\n",
    "\n",
    "```{toggle}\n",
    "\n",
    "After placing the qubit in equal superposition you shall see that the S gate causes a 90$^\\circ$ rotation about the z axis, whilst the T gate causes a 45$^\\circ$ rotation about the z axis. \n",
    "\n",
    "```"
   ]
  },
  {
   "cell_type": "markdown",
   "id": "416e123a",
   "metadata": {},
   "source": [
    "### Coding Exercise #2\n",
    "\n",
    "The `S` and `T` gates above aren't like the gates we've encountered previously which act as their own inverse. The reverse operations corresponding to these two gates are: $S^\\dagger$ and $T^\\dagger$ respectively. The ' $\\dagger$ ' symbol is called 'dagger'. Try visualizing the `sdag()` and `tdag()` operations in the cell below. "
   ]
  },
  {
   "cell_type": "code",
   "execution_count": null,
   "id": "507f66be",
   "metadata": {},
   "outputs": [],
   "source": [
    "dagger_circuit= QuantumCircuit(1)\n",
    "\n",
    "# 1. Write code to place the qubit in equal superposition\n",
    "\n",
    "# 2. Write code to apply an S or T gate #\n",
    "\n",
    "# 3. Write code to apply the corresponding reverse gate\n",
    "\n",
    "#visualize_transition(dagger_circuit, trace=True, saveas=None, fpg=50, spg=2)  #Remove the first '#' on this line"
   ]
  },
  {
   "cell_type": "markdown",
   "id": "330f200e",
   "metadata": {},
   "source": [
    "## 3. Parameterized Gates \n",
    "\n",
    "All the gates covered so far show specific angles of rotation about the x, y and z axes. How about we take a look at some that the user defines. These are called **parameterized** gates since they require an input angle parameter.<br>\n",
    "\n",
    "Here are some single-qubit parameterized gates: \n",
    "\n",
    "- The Rotation X gate `rx()` applies a rotation about the x axis\n",
    "- The Rotation Y gate `ry()` applies a rotation about the y axis.\n",
    "- The Rotation Z gate `rz()` applies a rotation about the z axis. \n",
    "- The Rotation gate `r()` applies a vertical rotation and a horizontal rotation. \n",
    "\n",
    "Let's apply some parameterized gates. "
   ]
  },
  {
   "cell_type": "code",
   "execution_count": null,
   "id": "0a5158f1",
   "metadata": {
    "scrolled": true
   },
   "outputs": [],
   "source": [
    "import numpy as np    # Importing numpy\n",
    "\n",
    "angle_in_degrees= 120\n",
    "\n",
    "theta= angle_in_degrees * np.pi/180 \n",
    "\n",
    "param_circuit=QuantumCircuit(1)\n",
    "\n",
    "param_circuit.rx(theta,0)  # We apply a rotation of theta to the first qubit. \n",
    "\n",
    "param_circuit.draw(output='mpl')"
   ]
  },
  {
   "cell_type": "code",
   "execution_count": null,
   "id": "ec4f9e26",
   "metadata": {},
   "outputs": [],
   "source": [
    "param_circuit.rz(theta,0)\n",
    "param_circuit.draw(output='mpl')"
   ]
  },
  {
   "cell_type": "code",
   "execution_count": null,
   "id": "5dc27379",
   "metadata": {
    "scrolled": false
   },
   "outputs": [],
   "source": [
    "visualize_transition(param_circuit, trace=True, saveas=None, fpg=25, spg=2)"
   ]
  },
  {
   "cell_type": "markdown",
   "id": "2d674b19",
   "metadata": {},
   "source": [
    "**There you go!** <br> We've shown how quantum gate operations can allow us to transition a qubit's state to just about anywhere on the Bloch Sphere.<br> This is precisely what gives quantum computation an advantage. Information is no longer processed as solely '0' or '1' but rather in **superposition** of '0' and '1' in a *complex* state space!  "
   ]
  },
  {
   "cell_type": "markdown",
   "id": "49a99ee6",
   "metadata": {},
   "source": [
    "# **Try Your Own Code**\n",
    "\n",
    "**We leave you this space to enter and play around with your own quantum programming code**. &nbsp; You may want to restart the kernel. "
   ]
  },
  {
   "cell_type": "code",
   "execution_count": 3,
   "id": "a1e384c2",
   "metadata": {},
   "outputs": [],
   "source": [
    "import qiskit \n",
    "from qiskit import *\n",
    "from qiskit.visualization import *\n",
    "import numpy as np \n",
    "\n",
    "\n",
    "\n"
   ]
  }
 ],
 "metadata": {
  "kernelspec": {
   "display_name": "Python 3 (ipykernel)",
   "language": "python",
   "name": "python3"
  },
  "language_info": {
   "codemirror_mode": {
    "name": "ipython",
    "version": 3
   },
   "file_extension": ".py",
   "mimetype": "text/x-python",
   "name": "python",
   "nbconvert_exporter": "python",
   "pygments_lexer": "ipython3",
   "version": "3.8.12"
  }
 },
 "nbformat": 4,
 "nbformat_minor": 5
}
