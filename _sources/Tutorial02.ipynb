{
 "cells": [
  {
   "cell_type": "markdown",
   "id": "b32100aa",
   "metadata": {},
   "source": [
    "# Tutorial B: Multiple Qubit Operations and Quantum Circuits\n",
    "&nbsp; "
   ]
  },
  {
   "cell_type": "markdown",
   "id": "3006f863",
   "metadata": {},
   "source": [
    "## Objectives: \n",
    "- to explore some properties of Quantum Mechanics with quantum circuits.\n",
    "- to see how a quantum circuit may allow for computation on multiple \"classical\" states simultaneously.\n",
    "&nbsp; "
   ]
  },
  {
   "cell_type": "markdown",
   "id": "02070dfa",
   "metadata": {},
   "source": [
    "The circuit composer widget"
   ]
  },
  {
   "cell_type": "code",
   "execution_count": null,
   "id": "835b60c6",
   "metadata": {},
   "outputs": [],
   "source": [
    "from ibm_quantum_widgets import CircuitComposer\n",
    "editor = CircuitComposer()\n",
    "editor"
   ]
  }
 ],
 "metadata": {
  "kernelspec": {
   "display_name": "Python 3 (ipykernel)",
   "language": "python",
   "name": "python3"
  },
  "language_info": {
   "codemirror_mode": {
    "name": "ipython",
    "version": 3
   },
   "file_extension": ".py",
   "mimetype": "text/x-python",
   "name": "python",
   "nbconvert_exporter": "python",
   "pygments_lexer": "ipython3",
   "version": "3.8.12"
  }
 },
 "nbformat": 4,
 "nbformat_minor": 5
}
