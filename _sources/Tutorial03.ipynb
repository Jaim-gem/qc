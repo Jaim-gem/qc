{
 "cells": [
  {
   "cell_type": "markdown",
   "id": "b32100aa",
   "metadata": {},
   "source": [
    "# Tutorial C: Multi-Qubit Circuits"
   ]
  },
  {
   "cell_type": "markdown",
   "id": "3006f863",
   "metadata": {},
   "source": [
    "## Objectives: \n",
    "- to create quantum circuits with more than one qubit.\n",
    "- to add gates to multiple qubits.\n",
    "- to combine circuits. \n",
    "- to visualize multi-qubit quantum states. \n",
    "- to see how a quantum circuit may allow for computation on multiple \"classical\" states simultaneously.\n",
    "&nbsp; "
   ]
  },
  {
   "cell_type": "markdown",
   "id": "ec7d7819",
   "metadata": {},
   "source": [
    "**Importing Modules**"
   ]
  },
  {
   "cell_type": "code",
   "execution_count": 7,
   "id": "835b60c6",
   "metadata": {},
   "outputs": [],
   "source": [
    "import qiskit\n",
    "from qiskit import *\n",
    "from qiskit.visualization import *\n",
    "import numpy as np"
   ]
  },
  {
   "cell_type": "markdown",
   "id": "7b726d2d",
   "metadata": {},
   "source": [
    "In Tutorials A and B, we created quantum circuits comprising a single qubit in order to focus on the action of single-qubit quantum gates and how they alter qubit states.<br> \n",
    "\n",
    "We shall now look at quantum circuits with more than one qubit. "
   ]
  },
  {
   "cell_type": "markdown",
   "id": "e8ee8ac8",
   "metadata": {},
   "source": [
    "## 1. Building a Multi-Qubit Circuit\n",
    "\n",
    "We use the same `QuantumCircuit()` function. Let's create a circuit with 3 qubits."
   ]
  },
  {
   "cell_type": "code",
   "execution_count": 15,
   "id": "eac3ef7e",
   "metadata": {
    "scrolled": true
   },
   "outputs": [
    {
     "data": {
      "image/png": "[encoded data removed]",
      "text/plain": [
       "<Figure size 116.697x204.68 with 1 Axes>"
      ]
     },
     "execution_count": 15,
     "metadata": {},
     "output_type": "execute_result"
    }
   ],
   "source": [
    "more_qubits= QuantumCircuit(3)\n",
    "more_qubits.draw(output='mpl')"
   ]
  },
  {
   "cell_type": "markdown",
   "id": "ebcbf0d2",
   "metadata": {},
   "source": [
    "**Simple!**\n",
    "\n",
    "```{note}\n",
    "We observe that the qubits are numbered starting with '0' so that the 3rd qubit has the index '2'. \n",
    "```\n",
    "\n",
    "Now, let's apply some gates to the qubits. "
   ]
  },
  {
   "cell_type": "code",
   "execution_count": 16,
   "id": "88860362",
   "metadata": {},
   "outputs": [
    {
     "data": {
      "image/png": "[encoded data removed]",
      "text/plain": [
       "<Figure size 206.997x204.68 with 1 Axes>"
      ]
     },
     "execution_count": 16,
     "metadata": {},
     "output_type": "execute_result"
    }
   ],
   "source": [
    "more_qubits.x(0)                      # Apply the x gate to the first qubit \n",
    "more_qubits.ry(np.pi/2,1)             # Apply a rotation-y gate to the second qubit\n",
    "more_qubits.s(1)                      # Apply an S gate also to the second qubit\n",
    "more_qubits.h(2)                      # Apply a Hadamard gate to the final qubit\n",
    "\n",
    "more_qubits.draw(output='mpl')"
   ]
  },
  {
   "cell_type": "markdown",
   "id": "dd52d074",
   "metadata": {},
   "source": [
    "So we've created a quantum circuit using 3 qubits and 4 different gates. \n",
    "\n",
    "How about if we want to apply the same gate to all qubits?\n",
    "\n",
    "## 2. Applying the same gates to all qubits. \n",
    "\n",
    "We can do this one of two ways. The manual way is simply as follows: "
   ]
  },
  {
   "cell_type": "code",
   "execution_count": 17,
   "id": "9b9e4f71",
   "metadata": {},
   "outputs": [
    {
     "data": {
      "image/png": "[encoded data removed]",
      "text/plain": [
       "<Figure size 206.997x204.68 with 1 Axes>"
      ]
     },
     "execution_count": 17,
     "metadata": {},
     "output_type": "execute_result"
    }
   ],
   "source": [
    "more_qubits2=QuantumCircuit(3)\n",
    "\n",
    "more_qubits2.h(0)  \n",
    "more_qubits2.s(0)\n",
    "\n",
    "more_qubits2.h(1)\n",
    "more_qubits2.s(1)\n",
    "\n",
    "more_qubits2.h(2)\n",
    "more_qubits2.s(2)\n",
    "\n",
    "more_qubits2.draw(output='mpl')"
   ]
  },
  {
   "cell_type": "markdown",
   "id": "b1381efc",
   "metadata": {},
   "source": [
    "The quicker way would be to use a loop. See below. "
   ]
  },
  {
   "cell_type": "code",
   "execution_count": 13,
   "id": "2742fa3d",
   "metadata": {
    "scrolled": true
   },
   "outputs": [
    {
     "data": {
      "image/png": "[encoded data removed]",
      "text/plain": [
       "<Figure size 206.997x204.68 with 1 Axes>"
      ]
     },
     "execution_count": 13,
     "metadata": {},
     "output_type": "execute_result"
    }
   ],
   "source": [
    "more_qubits2=QuantumCircuit(3)\n",
    "\n",
    "for i in range(3):                       # For i= 0, 1, 2 \n",
    "    more_qubits2.h(i)                     # Apply the h gate to the ith qubit\n",
    "    more_qubits2.s(i)                     # Then apply the s gate to the ith qubit\n",
    "\n",
    "more_qubits2.draw(output='mpl')"
   ]
  },
  {
   "cell_type": "markdown",
   "id": "83976a9c",
   "metadata": {},
   "source": [
    "We obtain the same circuit by using the `for` loop. "
   ]
  },
  {
   "cell_type": "markdown",
   "id": "a220b0af",
   "metadata": {},
   "source": [
    "## 3. Combining circuits\n",
    "\n",
    "We now wish to add the circuit the 'more_qubits' circuit after the 'more_qubits2' circuit. To do so, we start off with the circuit we'd like to have first, then apply the `.compose()` method. This is demonstrated below."
   ]
  },
  {
   "cell_type": "code",
   "execution_count": 25,
   "id": "6a3c282f",
   "metadata": {
    "scrolled": true
   },
   "outputs": [
    {
     "data": {
      "image/png": "[encoded data removed]",
      "text/plain": [
       "<Figure size 327.397x204.68 with 1 Axes>"
      ]
     },
     "execution_count": 25,
     "metadata": {},
     "output_type": "execute_result"
    }
   ],
   "source": [
    "combined_circuit = more_qubits2.compose(more_qubits)  \n",
    "\n",
    "combined_circuit.draw(output='mpl')"
   ]
  },
  {
   "cell_type": "markdown",
   "id": "02f08306",
   "metadata": {},
   "source": [
    "**Easy peasy!** And if we wanted to get fancy, we could also change the order in which the qubits are added..."
   ]
  },
  {
   "cell_type": "code",
   "execution_count": 26,
   "id": "46f99d78",
   "metadata": {
    "scrolled": true
   },
   "outputs": [
    {
     "data": {
      "image/png": "[encoded data removed]",
      "text/plain": [
       "<Figure size 327.397x204.68 with 1 Axes>"
      ]
     },
     "execution_count": 26,
     "metadata": {},
     "output_type": "execute_result"
    }
   ],
   "source": [
    "combined_circuit2 = more_qubits2.compose(more_qubits, qubits=[2,1,0])\n",
    "\n",
    "combined_circuit2.draw(output='mpl')"
   ]
  },
  {
   "cell_type": "markdown",
   "id": "84b923ee",
   "metadata": {},
   "source": [
    "Above, we have reversed the order of the qubits being added to the left circuit. Instead of '0, 1, 2', we specified '2, 1, 0'. \n",
    "\n",
    "Ok, we're ready to explore some interesting things we can do with quantum circuits. "
   ]
  },
  {
   "cell_type": "markdown",
   "id": "de63c91b",
   "metadata": {},
   "source": [
    "## 4. Random Sampling of Bitstrings\n",
    "\n",
    "We know that when we place a qubit in an equal superposition state, the probability of measuring the $|0\\rangle$ and $|1\\rangle$ states are equal.<br> \n",
    "\n",
    "If we were to place multiple qubits into equal superposition and measure them all at once, then we'll obtain a string of '0's and '1's. The interesting thing happends when we run the circuit again and again. Let's see.. "
   ]
  },
  {
   "cell_type": "code",
   "execution_count": 38,
   "id": "044a30e9",
   "metadata": {},
   "outputs": [
    {
     "data": {
      "image/png": "[encoded data removed]",
      "text/plain": [
       "<Figure size 478.079x325.08 with 1 Axes>"
      ]
     },
     "execution_count": 38,
     "metadata": {},
     "output_type": "execute_result"
    }
   ],
   "source": [
    "qc= QuantumCircuit(4)\n",
    "\n",
    "for i in range(4):\n",
    "    qc.h(i)                      \n",
    "\n",
    "qc.measure_all()\n",
    "qc.draw(output='mpl')"
   ]
  },
  {
   "cell_type": "markdown",
   "id": "b759e97e",
   "metadata": {},
   "source": [
    "We will run the circuit once to see the results. "
   ]
  },
  {
   "cell_type": "code",
   "execution_count": 41,
   "id": "4af1b710",
   "metadata": {},
   "outputs": [
    {
     "name": "stdout",
     "output_type": "stream",
     "text": [
      "{'0101': 1}\n"
     ]
    }
   ],
   "source": [
    "simulator = BasicAer.get_backend('qasm_simulator') \n",
    "\n",
    "job=execute(qc,simulator,shots=1)\n",
    "\n",
    "counts= job.result().get_counts()\n",
    "\n",
    "print(counts)"
   ]
  },
  {
   "cell_type": "markdown",
   "id": "26d89bf5",
   "metadata": {},
   "source": [
    "So we obtained a bitstring of length 4, a measurement for each qubit. **Run the circuit again.** \n",
    "\n",
    "\n",
    "We are likely to obtain different results each time we execute the circuit. Let's visualize the results we'll obtain if we ran the circuit a few thousand times. "
   ]
  },
  {
   "cell_type": "code",
   "execution_count": 54,
   "id": "dbbf922a",
   "metadata": {
    "scrolled": true
   },
   "outputs": [
    {
     "data": {
      "image/png": "[encoded data removed]",
      "text/plain": [
       "<Figure size 504x360 with 1 Axes>"
      ]
     },
     "execution_count": 54,
     "metadata": {},
     "output_type": "execute_result"
    }
   ],
   "source": [
    "job=execute(qc,simulator,shots=8000)\n",
    "counts= job.result().get_counts()\n",
    "plot_histogram(counts, color='silver')"
   ]
  },
  {
   "cell_type": "markdown",
   "id": "0e0e75f1",
   "metadata": {},
   "source": [
    "With 8000 shots of the circuit, we see that all possible bitstrings (there are $2^4=16$ possibilities) from '0000' to '1111' are observed with fairly equal probability. \n",
    "\n",
    "**Can you think of what this implies for the quantum state of the circuit before the measurement?**\n",
    "\n",
    "```{toggle}\n",
    "\n",
    "The collective state of the quantum circuit prior to **measurement collapse** is an equal **superposition** of all 16 possible bitstring states. \n",
    "\n",
    "This means that by putting our qubits into equal superposition we can perform calculations on many possibilities all at once! \n",
    "\n",
    "```"
   ]
  },
  {
   "cell_type": "markdown",
   "id": "cbb331e9",
   "metadata": {},
   "source": [
    "**That's it for this tutorial!** <br> Tune in for the next tutorial where the fun truly begins..."
   ]
  },
  {
   "cell_type": "markdown",
   "id": "93e3b827",
   "metadata": {},
   "source": [
    "# **Try Your Own Code**\n",
    "\n",
    "**We leave you this space to enter and play around with your own quantum programming code**. &nbsp; You may want to restart the kernel. "
   ]
  },
  {
   "cell_type": "code",
   "execution_count": 56,
   "id": "73681055",
   "metadata": {},
   "outputs": [],
   "source": [
    "import qiskit \n",
    "from qiskit import *\n",
    "from qiskit.visualization import *\n",
    "import numpy as np \n"
   ]
  }
 ],
 "metadata": {
  "kernelspec": {
   "display_name": "Python 3 (ipykernel)",
   "language": "python",
   "name": "python3"
  },
  "language_info": {
   "codemirror_mode": {
    "name": "ipython",
    "version": 3
   },
   "file_extension": ".py",
   "mimetype": "text/x-python",
   "name": "python",
   "nbconvert_exporter": "python",
   "pygments_lexer": "ipython3",
   "version": "3.8.12"
  }
 },
 "nbformat": 4,
 "nbformat_minor": 5
}
