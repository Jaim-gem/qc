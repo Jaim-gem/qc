{
 "cells": [
  {
   "cell_type": "markdown",
   "id": "9b0ac08a",
   "metadata": {},
   "source": [
    "# 2. Wave-Particle Duality\n",
    "&nbsp; \n",
    "\n",
    "![coolquantum](quantum-physics.jpg)\n",
    "```{margin}\n",
    "Credit: Google Images\n",
    "```"
   ]
  },
  {
   "cell_type": "markdown",
   "id": "f85bf5a3",
   "metadata": {},
   "source": [
    "The first thing that we looked at in the [video](quantum-video) was **wave-particle duality**. \n",
    "\n",
    "**Wave-particle duality** is the ability of small-scaled objects to show both wave-like behaviour and particle behaviour.\n",
    "\n",
    "Waves are *pertubations* in some medium that causes the transfer of energy without the transfer of matter. Waves are associated with phenomena like **Superposition**, **Interference** and **Diffraction**. And these are phenomena that we have evidence of in everyday life.  \n",
    "\n",
    "On the other hand, particles are *localized* \"stuff\" which have specific amounts of matter and specific properties like its charge, speed and form.\n",
    "\n",
    "In the Pre-Quantum Mechanics era, experiments like *Young's Double Slit* in 1801 gave us proof that light was a wave by demonstrating light interference, whereas *JJ Thomson's cathode ray* experiments showed us that electrons were negatively-charged particles.\n",
    "\n",
    "However, it took some 100 years or so for us to piece together that light, which we had evidence for being a wave, could have \"amounts\" as well *and that changed things*.<br>\n",
    "\n",
    "```{tip}\n",
    "You can look up the *ultraviolet catastrophe* in the black-body radiation problem, as well as the *photoelectric effect* experiment to get a deeper understanding on the particle-like behaviour of light. \n",
    "```\n",
    "\n",
    "These \"amounts\" were given the name **quanta** from Latin meaning \"how much\".&nbsp; Of course, it wasn't readily accepted by the Physics community at the time, but the evidence was there... That's how the word \"quantum\" came to be in Physics. \n",
    "\n",
    "It took 20 or so more years before the idea of particles also having wave-like behaviour came to be, at the time that electron interference was experimentally proven. *And this is what wave-particle duality is.*\n",
    "\n",
    "```{tip}\n",
    "For a greater understanding of the wave-like behaviour of matter, look up De Broglie's proposition of wave-particle duality and the Davisson and Germer's electron diffraction experiment.  \n",
    "```\n"
   ]
  }
 ],
 "metadata": {
  "kernelspec": {
   "display_name": "Python 3 (ipykernel)",
   "language": "python",
   "name": "python3"
  },
  "language_info": {
   "codemirror_mode": {
    "name": "ipython",
    "version": 3
   },
   "file_extension": ".py",
   "mimetype": "text/x-python",
   "name": "python",
   "nbconvert_exporter": "python",
   "pygments_lexer": "ipython3",
   "version": "3.8.12"
  }
 },
 "nbformat": 4,
 "nbformat_minor": 5
}
