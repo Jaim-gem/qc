{
 "cells": [
  {
   "cell_type": "markdown",
   "id": "a12ae517",
   "metadata": {},
   "source": [
    "# 5. Entanglement\n",
    "&nbsp;\n",
    "![entangle](https://cdn.mos.cms.futurecdn.net/XXvNg65B8odU3wbAi5J44D-970-80.jpg.webp)\n",
    "```{margin}\n",
    "Credit: Getty Images\n",
    "```\n",
    "The last thing that we'll look at is **entanglement**. Entanglement is when the states of two (or more) quantum objects are **linked** to each other. \n",
    "\n",
    "*To illustrate, we'll continue with our quantum cat...* "
   ]
  },
  {
   "cell_type": "markdown",
   "id": "84e5d6a7",
   "metadata": {},
   "source": [
    "## **Shrodinger's Cat in a Box [Pt. 3]**\n",
    "### **Two Entangled Superposed Quantum Cats?** \n",
    "\n",
    "Let's push Schrodinger's thought experiment a *little* further by saying that we now have **two** superposed quantum cats.<br> **But**, this time they're also *entangled*. That means that at some point in time, these cats were *in the same box*. We imagine now that the two cats (in each a box) have physically separated and each gone to one end of the universe. \n",
    "\n",
    "*Now*, a classical observer at the both ends decides to look into the box **at the same time**, and take note of what they see. \n",
    "\n",
    "The process is repeated with similarly-prepared entangled quantum cats, then the two observers meet and compare their notes. \n",
    "\n",
    "**Can you think of what they will notice?** \n",
    "\n",
    "```{toggle}\n",
    "For each pair of cats, they will either get the same result every time **or** a different result every time!\n",
    "In the first scenario, the cats are entangled to be same, whereas in the second scenario the cats are entangled to be opposite. \n",
    "```\n",
    "\n",
    "If you are puzzled, add now the thought that the cats were initially superposed and their \"fates\" only decided when each observer decided to look, remembering that they looked at the same time. \n",
    "\n",
    "**What can that possibly mean about the physical reality of quantum mechanical objects?** \n",
    "\n",
    "From a classical perspective, and also Einstein's perspective, *it would appear* that the cats \"communicated\" their final states **faster than the speed of light** at the moment of observation... which of course violates Einstein's theory that nothing, not even information, can travel faster than light!\n",
    "\n",
    "**However**, there is another option, which makes Einstein both right and wrong, but it is even *stranger* than what we think.\n",
    "\n",
    "Suppose that Einstein is **right**... that **nothing** can travel faster than the speed of light... but suppose also, that entangled quantum systems **do not need to communicate anything**. But in fact, quantum systems (and by extension Quantum Mechanics) can be **non-local**, meaning that they are not confined to a particular space! And that *distance means nothing* for quantum objects.\n",
    "\n",
    "This view of Quantum Mechanics is more accepted now, as increasingly complex experimental setups, confirm time and again that a **local** theory for quantum behaviour is invalid, and that only a **non-local** view can explain experimental observations and calculations.\n",
    "\n"
   ]
  }
 ],
 "metadata": {
  "kernelspec": {
   "display_name": "Python 3 (ipykernel)",
   "language": "python",
   "name": "python3"
  },
  "language_info": {
   "codemirror_mode": {
    "name": "ipython",
    "version": 3
   },
   "file_extension": ".py",
   "mimetype": "text/x-python",
   "name": "python",
   "nbconvert_exporter": "python",
   "pygments_lexer": "ipython3",
   "version": "3.8.12"
  }
 },
 "nbformat": 4,
 "nbformat_minor": 5
}
