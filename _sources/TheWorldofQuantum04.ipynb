{
 "cells": [
  {
   "cell_type": "markdown",
   "id": "a12ae517",
   "metadata": {},
   "source": [
    "# 5. Entanglement\n",
    "&nbsp;\n",
    "![entangle](https://cdn.mos.cms.futurecdn.net/XXvNg65B8odU3wbAi5J44D-970-80.jpg.webp)\n",
    "```{margin}\n",
    "Credit: Getty Images\n",
    "```\n",
    "The last thing that we'll look at is **entanglement**. Entanglement is when the states of two (or more) quantum objects are *linked* to one another. \n",
    "\n",
    "*To illustrate, we'll continue with our quantum cat thought experiment...* "
   ]
  },
  {
   "cell_type": "markdown",
   "id": "84e5d6a7",
   "metadata": {
    "jp-MarkdownHeadingCollapsed": true,
    "tags": []
   },
   "source": [
    "## **Shrodinger's Cat in a Box (Pt. 3)  -- Two Entangled Superposed Quantum Cats?** \n",
    "\n",
    "Let's push Schrodinger's thought experiment a little further by saying that we now have two superposed quantum cats.<br> But this time they're also *maximally entangled* . That means that at some point in time, these cats were most likely *in the same box*. We imagine now that the two cats (in each a different box now) have physically separated and each gone to opposite ends of the universe. \n",
    "\n",
    "Now, a classical observer at the both ends decides to look into the box *at the same time* to take note of what they see. The process is repeated with similarly-prepared entangled quantum cats a sufficient number of times, then the two observers meet and compare their notes. \n",
    "\n",
    "*Can you think of what they will notice?* Click below to find out.\n",
    "\n",
    "```{toggle}\n",
    "For each pair of cats, they will either get the same result every time **or** a different result every time!\n",
    "In the first possible scenario, the cats are entangled to be same all the time. That is, if you measure a dead cat on one end you will also measure a dead cat on the other end, and when you measure an alive cat on one end you will also measure the cat being alive on the next end. In the second possible scenario, the cats can be entangled to be opposite each time. That is, once you measure the cat in one state at a given end, the cat on the other end will always be in the opposite state.\n",
    "```\n",
    "\n",
    "If you are puzzled, add now the idea that the cats were initially superposed and their fates only \"decided\" when each observer decided to look, remembering that they looked at the exact same time. \n",
    "\n",
    "*What can that possibly mean about the physical reality of quantum mechanical objects?*\n",
    "\n",
    "From a classical perspective, and also Einstein's perspective, *it would appear* that the cats \"communicated\" their final states *faster than the speed of light* at the moment of observation... which of course violates Einstein's theory that nothing (not even information) can travel faster than light.\n",
    "\n",
    "However there is *another way* to interpret this, which makes Einstein both *right* and *wrong*. Yet this way is even stranger than what we can think.\n",
    "\n",
    "Suppose that Einstein is *right*... that *nothing* can travel faster than the speed of light... but suppose also that entangled quantum systems **do not need to communicate anything**. But in fact, entangled quantum systems (and by extension Quantum Mechanics) can be **non-local**, meaning that they are not confined/localized to just one particular space! And that *distance really means nothing* for two 'linked' quantum objects. (Now the above header image depicting two atoms connected by an invisible string appears relevant.)\n",
    "\n",
    "This view of Quantum Mechanics is more accepted now as increasingly complex experimental setups confirm time and again that a **local** theory for quantum systems appears invalid, and that only a **non-local** view can explain experimental observations and calculations.\n",
    "\n"
   ]
  }
 ],
 "metadata": {
  "kernelspec": {
   "display_name": "Python 3 (ipykernel)",
   "language": "python",
   "name": "python3"
  },
  "language_info": {
   "codemirror_mode": {
    "name": "ipython",
    "version": 3
   },
   "file_extension": ".py",
   "mimetype": "text/x-python",
   "name": "python",
   "nbconvert_exporter": "python",
   "pygments_lexer": "ipython3",
   "version": "3.8.12"
  }
 },
 "nbformat": 4,
 "nbformat_minor": 5
}
