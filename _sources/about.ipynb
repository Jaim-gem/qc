{
 "cells": [
  {
   "cell_type": "markdown",
   "id": "eb72c1ac",
   "metadata": {},
   "source": [
    "# **About the Author** \n",
    "\n",
    "```{image} profilepic.jpeg\n",
    ":width: 300px\n",
    "```\n",
    "&nbsp;\n",
    "\n",
    "Hi! My name is Jaimie Greasley and I've been a Physics enthusiast since I was *15 years old!* &nbsp; At 15, I initially wanted to be a particle physicist, but life took me other places... I have a BSc in Physics from the Sorbonne University in Paris, and an MSc Biomedical Physics from the University of the West Indies. I've always loved Quantum, since I first started studying it. However, it was only last year, once masters degree was ended, that I started learning machine learning, quantum computing and quantum machine learning! I've pretty much decided that that's all I want to do now... So let's see how it all turns out!\n",
    "&nbsp;\n",
    "\n",
    "# Contact Information \n",
    "\n",
    "**Email**: jaimie.greasley@gmail.com <br>\n",
    "\n",
    "**LinkedIn**: [Jaimie Greasley](https://www.linkedin.com/in/jaimiegreasley/) <br>\n",
    "\n",
    "**Website**: [www.jgphysics.com](https://www.jgphysics.com)\n"
   ]
  }
 ],
 "metadata": {
  "kernelspec": {
   "display_name": "Python 3 (ipykernel)",
   "language": "python",
   "name": "python3"
  },
  "language_info": {
   "codemirror_mode": {
    "name": "ipython",
    "version": 3
   },
   "file_extension": ".py",
   "mimetype": "text/x-python",
   "name": "python",
   "nbconvert_exporter": "python",
   "pygments_lexer": "ipython3",
   "version": "3.8.12"
  }
 },
 "nbformat": 4,
 "nbformat_minor": 5
}
