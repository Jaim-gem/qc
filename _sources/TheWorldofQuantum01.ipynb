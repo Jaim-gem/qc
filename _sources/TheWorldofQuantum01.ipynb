{
 "cells": [
  {
   "cell_type": "markdown",
   "id": "0e51499b",
   "metadata": {},
   "source": [
    "(quantum-video)=\n",
    "# 1. Introduction to the Quantum World: A Video \n",
    "&nbsp; \n"
   ]
  },
  {
   "cell_type": "code",
   "execution_count": 1,
   "id": "4e44508e",
   "metadata": {
    "scrolled": false,
    "tags": [
     "remove-input"
    ]
   },
   "outputs": [
    {
     "data": {
      "image/jpeg": "[encoded data removed]",
      "text/html": [
       "\n",
       "        <iframe\n",
       "            width=\"400\"\n",
       "            height=\"300\"\n",
       "            src=\"https://www.youtube.com/embed/rUVaEbiDrd0\"\n",
       "            frameborder=\"0\"\n",
       "            allowfullscreen\n",
       "            \n",
       "        ></iframe>\n",
       "        "
      ],
      "text/plain": [
       "<IPython.lib.display.YouTubeVideo at 0x24e6a6ec8e0>"
      ]
     },
     "metadata": {},
     "output_type": "display_data"
    }
   ],
   "source": [
    "from IPython.display import YouTubeVideo \n",
    "video=YouTubeVideo(\"rUVaEbiDrd0\")\n",
    "display(video)"
   ]
  },
  {
   "cell_type": "markdown",
   "id": "01fa778f",
   "metadata": {},
   "source": [
    "**Did you catch all that?**&nbsp; Not to worry, we'll go them over in the following sections. \n",
    "\n",
    "Until then, let's see how much you *do* remember...\n",
    "\n",
    "\n",
    "# Short Quiz \n",
    "&nbsp; \n",
    "*Try to answer these questions* and when you're done, click the *button* to find out if you were right!\n",
    "\n",
    "\n",
    "- **What is wave-particle duality?**\n",
    "\n",
    "```{toggle}\n",
    "Wave-particle duality is the ability of small-scaled objects to show both wave-like behaviour and particle behaviour. \n",
    "```\n",
    "\n",
    "- **What do we call the phenomenon whereby waves can add up and/or cancel each other out?**\n",
    "\n",
    "```{toggle}\n",
    "It's called Interference!\n",
    "```\n",
    "\n",
    "- **What do physicists mean when they speak about the *state* of a physical object or system ?**\n",
    "\n",
    "```{toggle}\n",
    "The state of an object or system is simply its *description* with respect to a particular property. \n",
    "For example, the state of a handbag could be its colour, size, dimensions, number of zips etc...\n",
    "```\n",
    "\n",
    "- **What is a two-level physical system?**\n",
    "\n",
    "```{toggle}\n",
    "A two-level system is a physical system that can have only two possible states with respect to a given property. \n",
    "For example, a coin can be a two-level system with respect to the sides of the coin. It can land on \"heads\" or it can land on \"tails\". An example of something that isn't a two-level system could be a coffee mug with respect to its colour. There are many colours that a coffee mug can be, so this isn't a two-level system. On the other hand, the coffee mug can be a two-level system with respect to having a handle or not. It's either it has a handle or it doesn't have a handle, and that's two possible states.\n",
    "\n",
    "```\n",
    "\n",
    "- **What is Superposition?**\n",
    "\n",
    "```{toggle}\n",
    "Superposition is a phenomenon associated with wave-like behaviour. It is when something can be in two or more different states at the same time! If a coffee mug was quantum, a superposition could be that **it has** a handle and **doesn't have** a handle **at the same time**.\n",
    "```\n",
    "\n",
    "- **What did Albert Einstein find spooky about Quantum Mechanics?**\n",
    "\n",
    "```{toggle}\n",
    "Einstein popularly described the idea of quantum entanglement as \"spooky action at a distance\". Entanglement is when two quantum objects can be \"in sync\" with each other whilst being physically separated by large distances. In more scientific terms, their states can no longer be described for each individual object, but now must be described for the \"whole\". \n",
    "```\n",
    "\n",
    "- **What happens when we measure a quantum object?**\n",
    "\n",
    "```{toggle}\n",
    "If we measure a quantum object that's in a superposition of two or more states, we force it to choose which state it belongs to. This is what we call \"wave-function collapse\". \n",
    "```\n",
    "\n",
    "&nbsp; \n"
   ]
  }
 ],
 "metadata": {
  "kernelspec": {
   "display_name": "Python 3 (ipykernel)",
   "language": "python",
   "name": "python3"
  },
  "language_info": {
   "codemirror_mode": {
    "name": "ipython",
    "version": 3
   },
   "file_extension": ".py",
   "mimetype": "text/x-python",
   "name": "python",
   "nbconvert_exporter": "python",
   "pygments_lexer": "ipython3",
   "version": "3.8.12"
  }
 },
 "nbformat": 4,
 "nbformat_minor": 5
}
