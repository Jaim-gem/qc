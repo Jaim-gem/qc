{
 "cells": [
  {
   "cell_type": "markdown",
   "id": "5ccc8fac",
   "metadata": {},
   "source": [
    "(qcomp-section)=\n",
    "# **What is Quantum Computing?** \n",
    "&nbsp; \n"
   ]
  },
  {
   "cell_type": "markdown",
   "id": "269733aa",
   "metadata": {},
   "source": [
    "![qcing](quantum-computing.jpg)\n",
    "\n",
    "```{margin}\n",
    "Photo Credit: Google \n",
    "```\n"
   ]
  },
  {
   "cell_type": "markdown",
   "id": "78ae91ce",
   "metadata": {},
   "source": [
    "In the previous section, we learnt about the *interesting* and *very strange* properties of quantum objects which make them different from everything we know about in our *classical* world. &nbsp; The computers that we have, use *classical* Physics and run on *classical* behaviours. <br>\n",
    "\n",
    "You may have heard about **bits** before.&nbsp; A **bit** is the basic unit of Information in anything pertaining to computing and digital technologies. &nbsp; A bit can be  `0` which is \"off\" **or** `1` which is \"on\".<br> \n",
    "\n",
    "When we piece together many bits, we get **binary code**. Binary code is the *natural language* of computers. Everything that we can and will do on a classical computer will eventually all be broken down into binary code.&nbsp; This is ***how computers work***. \n",
    "\n",
    "*However*, you can imagine that the bits for our computers can **only** do *classical* things. &nbsp; They can only ever be \"on\" or \"off\". \n",
    "\n",
    "*But*, if we try to make our bits *quantum*... &nbsp; That would mean that our bits can be in **superposition**, or show **interference**, and even become **entangled**. <br>\n",
    "\n",
    "We expect that we would be able to do *so much more* with **quantum bits**.&nbsp; And this is the justification for Quantum technologies like **Quantum Computing**. \n",
    "\n",
    "&nbsp;\n",
    "\n",
    "**Let's summarize**. \n",
    "\n",
    "- **Quantum Computing** is when we do computing with *quantum* behaviour instead of *classical* behaviour. \n",
    "\n",
    "\n",
    "- To do Quantum Computing, we need *quantum* systems so that we can have access to these interesting *quantum* behaviours. \n",
    "\n",
    "\n",
    "- Unlike *Classical Computing* which uses **bits**, *Quantum Computing* uses **quantum bits** or **qubits** for short.\n",
    "\n",
    "\n",
    "- **Qubits** are interesting because instead of simply being `0` or `1` like classical bits, they can be **both** `0` and `1` *at the same time*! \n",
    "\n",
    "\n",
    "\n",
    "&nbsp; \n",
    "\n",
    "# Short Quiz\n",
    "\n",
    "*Try to answer the following question on your own, then click to reveal the answer.*\n",
    "\n",
    "&nbsp;\n",
    "**Can a qubit be 55%  `0` and 45%  `1` ?** \n",
    "\n",
    "```{toggle}\n",
    "\n",
    "Yes! \n",
    "\n",
    "This is what we call a superposed state. \n",
    " \n",
    "In fact, once a qubit is neither 100% \"on\" or 100% \"off\", it's in a superposition! \n",
    "\n",
    "With superposition, we can do a lot more with every qubit, than with a classical bit.  \n",
    "\n",
    "\n",
    "```\n",
    "\n",
    "&nbsp;\n"
   ]
  }
 ],
 "metadata": {
  "kernelspec": {
   "display_name": "Python 3 (ipykernel)",
   "language": "python",
   "name": "python3"
  },
  "language_info": {
   "codemirror_mode": {
    "name": "ipython",
    "version": 3
   },
   "file_extension": ".py",
   "mimetype": "text/x-python",
   "name": "python",
   "nbconvert_exporter": "python",
   "pygments_lexer": "ipython3",
   "version": "3.8.12"
  }
 },
 "nbformat": 4,
 "nbformat_minor": 5
}
