{
 "cells": [
  {
   "cell_type": "markdown",
   "id": "682eb4fc",
   "metadata": {},
   "source": [
    "# 4. Wave-Function Collapse\n",
    "&nbsp;\n",
    "\n",
    "![wfcol](https://imageio.forbes.com/specials-images/dam/imageserve/1073822192/960x0.jpg?fit=bounds&format=jpg&width=960)\n",
    "```{margin}\n",
    "Credit: Getty Images\n",
    "```\n",
    "\n",
    "From the [video](quantum-video), we heard about **wave-function collapse** where the quantum object \"chooses\" a classical reality upon measurement or observation. \n",
    "\n",
    "Wave-function collapse can be truly mind-boggling, especially when we consider what it can mean.\n",
    "There are several questions that spring from it like:\n",
    "\n",
    "- *Can particles \"tell\" when they are being observed or will be observed?*\n",
    "- *Do multiple realities exist? Are there split-worlds?*\n",
    "\n",
    "```{warning}\n",
    "If you do not want endless hours of no sleep, do not look up the \"Interpretations of Quantum Mechanics\". \n",
    "**Consider yourself, warned**. \n",
    "```\n",
    "\n",
    "In any case, here are some **funny memes** about wave-function collapse. \n",
    "```{toggle}\n",
    "![meme](https://imageproxy.ifunny.co/crop:x-20,resize:640x,quality:90x75/images/4352f1c99a1ac655728415e9774a82d3b15596b2ca84a9b9d716439b901e4f7f_1.jpg)\n",
    "![meme](https://preview.redd.it/s48oy1hmfls41.jpg?width=640&crop=smart&auto=webp&s=ee5d8438a186b8f6124037888ebab0baba9577df)\n",
    "Credit: The Internet\n",
    "```\n",
    "\n",
    "\n",
    "Although it appears to be terribly sad that observation and measurement causes the object to no longer be \"quantum\", this is the only way to extract information from the quantum system. And we need measurement for Quantum Computing! \n"
   ]
  },
  {
   "cell_type": "markdown",
   "id": "2991ca6a",
   "metadata": {},
   "source": [
    "(schrod-refer)=\n",
    "## **Shrodinger's Cat in a Box (Pt. 2) -- A Superposed Quantum Cat's Final Fate**\n",
    "&nbsp;\n",
    "![catimage](https://images.immediate.co.uk/production/volatile/sites/4/2019/01/GettyImages-841990410-efb944c.jpg?webp=true&quality=90&resize=600%2C399)\n",
    "```{margin}\n",
    "Credit: BBC Science\n",
    "```\n",
    "\n",
    "By now, you've probably guessed what happens when you look in the box. &nbsp; There can only be one outcome. The cat is either *dead* or it is *alive*. Our *observation* of the cat forces a *wave-function collapse* to one of the two possible measurable states. &nbsp; If we were to repeat the experiment with multiple quantum cats (prepared in the exact same way), we can extract information on the superposed state prior to our observation. If we get 50% alive and 50% dead, then we would know that the cats were in an **equal superposition** state before we looked in. \n",
    "\n",
    "*Unfortunately, that can mean a lot of dead cats...*\n"
   ]
  }
 ],
 "metadata": {
  "kernelspec": {
   "display_name": "Python 3 (ipykernel)",
   "language": "python",
   "name": "python3"
  },
  "language_info": {
   "codemirror_mode": {
    "name": "ipython",
    "version": 3
   },
   "file_extension": ".py",
   "mimetype": "text/x-python",
   "name": "python",
   "nbconvert_exporter": "python",
   "pygments_lexer": "ipython3",
   "version": "3.8.12"
  }
 },
 "nbformat": 4,
 "nbformat_minor": 5
}
