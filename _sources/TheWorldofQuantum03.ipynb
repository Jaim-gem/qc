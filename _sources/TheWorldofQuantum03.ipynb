{
 "cells": [
  {
   "cell_type": "markdown",
   "id": "cbb535cd",
   "metadata": {},
   "source": [
    "# 3. Superposition\n",
    "&nbsp;\n",
    "\n",
    "![cat](https://scx1.b-cdn.net/csz/news/800a/2020/couldschrdin.jpg)\n",
    "```{margin}\n",
    "Credit: Shutterstock\n",
    "```\n",
    "\n",
    "From the [video](quantum-video), we learnt that **superposition** is when a quantum object can be in two or more different states at the same time. \n",
    "\n",
    "To simplify things, we looked at only two-level physical systems. Two-level systems have two possible **measurable states**. This means that when we observe or measure the system, we can get one of two posibilities. Technically, we can have a superposition of not just two states but as many as there are for that quantum system. \n",
    "\n",
    "Superposition is cool because it is a behaviour that is associated with waves, and so it is a direct reinforcement of the dual wave-particle nature of quantum objects.  \n",
    "\n",
    "*Here's a cool idea on superposition...*"
   ]
  },
  {
   "cell_type": "markdown",
   "id": "a7c9e3e1",
   "metadata": {},
   "source": [
    "## **Shrodinger's Cat in a Box (Pt.1) -- A Superposed Quantum Cat**\n",
    "\n",
    "Erwin Schrodinger posed an interesting *thought experiment* to illustrate the wonders of quantum superposition. The beginning of it goes something like this...\n",
    "\n",
    "Imagine you have a cat in a box.&nbsp; It's a *quantum cat*, obviously.<br>\n",
    "Well, Quantum Mechanics states that the cat can be in a superposition of more than one state at the same time.<br>\n",
    "The cat being alive or dead is the perfect example of a two-level system by the way. The cat can either be in the *alive* state or it can be in the *dead* state.<br>\n",
    "However for our *quantum cat*, it can be *both* alive and dead.\n",
    "\n",
    "**So what do we, as classical observers, see when we look at the cat?**\n",
    "(*And why is the cat in a box?*) \n",
    "\n",
    "I'll give you some time to think about these questions, and we'll continue this thought experiment in the next section. "
   ]
  }
 ],
 "metadata": {
  "kernelspec": {
   "display_name": "Python 3 (ipykernel)",
   "language": "python",
   "name": "python3"
  },
  "language_info": {
   "codemirror_mode": {
    "name": "ipython",
    "version": 3
   },
   "file_extension": ".py",
   "mimetype": "text/x-python",
   "name": "python",
   "nbconvert_exporter": "python",
   "pygments_lexer": "ipython3",
   "version": "3.8.12"
  }
 },
 "nbformat": 4,
 "nbformat_minor": 5
}
