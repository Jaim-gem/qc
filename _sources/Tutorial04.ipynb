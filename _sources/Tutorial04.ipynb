{
 "cells": [
  {
   "cell_type": "markdown",
   "id": "c931dc72",
   "metadata": {},
   "source": [
    "# Tutorial D: Multi-Qubit Operations & Demonstrating Quantum Mechanics\n",
    "&nbsp; "
   ]
  },
  {
   "cell_type": "markdown",
   "id": "52766ddb",
   "metadata": {},
   "source": [
    "## Objectives: \n",
    "- to explore some properties of Quantum Mechanics with quantum circuits."
   ]
  },
  {
   "cell_type": "markdown",
   "id": "b8a8a6eb",
   "metadata": {},
   "source": [
    "To cover in this tutorial: Multi-qubit gates, using the state vector simulator to plot more interesting visualizations like the multibloch vector, state city etc. , creating entanglement, a cool quantum algorithm like the quantum teleportation circuit or something else. "
   ]
  }
 ],
 "metadata": {
  "kernelspec": {
   "display_name": "Python 3 (ipykernel)",
   "language": "python",
   "name": "python3"
  },
  "language_info": {
   "codemirror_mode": {
    "name": "ipython",
    "version": 3
   },
   "file_extension": ".py",
   "mimetype": "text/x-python",
   "name": "python",
   "nbconvert_exporter": "python",
   "pygments_lexer": "ipython3",
   "version": "3.8.12"
  }
 },
 "nbformat": 4,
 "nbformat_minor": 5
}
