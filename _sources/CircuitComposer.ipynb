{
 "cells": [
  {
   "cell_type": "markdown",
   "id": "d4173f62",
   "metadata": {},
   "source": [
    "# IBM Quantum Lab: Circuit Composer\n",
    "&nbsp; "
   ]
  },
  {
   "cell_type": "markdown",
   "id": "d66bdbe1",
   "metadata": {},
   "source": [
    "Here's a nifty tool that you can use to compose and visualize quantum circuits. "
   ]
  },
  {
   "cell_type": "markdown",
   "id": "4a604b26",
   "metadata": {},
   "source": [
    "```{tips}\n",
    "- By clicking the checkbox below the widget, you can obtain the programming code producing the circuit [a] \n",
    "- Reversely, you can write code for a circuit and generate the Composer Widget with it [b]\n",
    "```"
   ]
  },
  {
   "cell_type": "markdown",
   "id": "65097a39",
   "metadata": {},
   "source": [
    "## [a] The Widget \n",
    "\n",
    "Create any circuit you wish, then click the checkbox to generate the equivalent programming code."
   ]
  },
  {
   "cell_type": "code",
   "execution_count": 5,
   "id": "5916d3cc",
   "metadata": {
    "scrolled": true
   },
   "outputs": [
    {
     "data": {
      "application/vnd.jupyter.widget-view+json": {
       "model_id": "06a7285bf053453cbb3b91d8f67facd5",
       "version_major": 2,
       "version_minor": 0
      },
      "text/plain": [
       "CircuitComposer(circuit=<qiskit.circuit.quantumcircuit.QuantumCircuit object at 0x000001FB2432C880>)"
      ]
     },
     "metadata": {},
     "output_type": "display_data"
    }
   ],
   "source": [
    "from ibm_quantum_widgets import CircuitComposer\n",
    "\n",
    "composer = CircuitComposer()\n",
    "composer"
   ]
  },
  {
   "cell_type": "code",
   "execution_count": null,
   "id": "2da2dca4",
   "metadata": {},
   "outputs": [],
   "source": [
    "# This code is being generated automatically by the IBM Quantum Circuit Composer widget.\n",
    "# It changes in every update of the widget, so any modifications done in this cell will be lost.\n",
    "# State: disconnected\n",
    "\n",
    "from qiskit import QuantumRegister, ClassicalRegister, QuantumCircuit\n",
    "from numpy import pi\n",
    "\n",
    "qreg_q = QuantumRegister(3, 'q')\n",
    "creg_c = ClassicalRegister(3, 'c')\n",
    "circuit = QuantumCircuit(qreg_q, creg_c)"
   ]
  },
  {
   "cell_type": "markdown",
   "id": "aa5cd4dd",
   "metadata": {},
   "source": [
    "## [b] Circuit Code to Widget "
   ]
  },
  {
   "cell_type": "code",
   "execution_count": 8,
   "id": "68b2d397",
   "metadata": {
    "scrolled": true
   },
   "outputs": [
    {
     "data": {
      "application/vnd.jupyter.widget-view+json": {
       "model_id": "771c55bd490747a39101271fc336c450",
       "version_major": 2,
       "version_minor": 0
      },
      "text/plain": [
       "CircuitComposer(circuit=<qiskit.circuit.quantumcircuit.QuantumCircuit object at 0x000001FB2432C7F0>)"
      ]
     },
     "metadata": {},
     "output_type": "display_data"
    }
   ],
   "source": [
    "import qiskit \n",
    "from qiskit import QuantumCircuit\n",
    "\n",
    "qcirc=QuantumCircuit(3)\n",
    "\n",
    "for i in range(3): \n",
    "    qcirc.x(i)\n",
    "    qcirc.h(i)\n",
    "\n",
    "code_to_composer=CircuitComposer(circuit=qcirc)\n",
    "code_to_composer"
   ]
  }
 ],
 "metadata": {
  "kernelspec": {
   "display_name": "Python 3 (ipykernel)",
   "language": "python",
   "name": "python3"
  },
  "language_info": {
   "codemirror_mode": {
    "name": "ipython",
    "version": 3
   },
   "file_extension": ".py",
   "mimetype": "text/x-python",
   "name": "python",
   "nbconvert_exporter": "python",
   "pygments_lexer": "ipython3",
   "version": "3.8.12"
  },
  "widgets": {
   "application/vnd.jupyter.widget-state+json": {
    "state": {
     "06a7285bf053453cbb3b91d8f67facd5": {
      "model_module": "@quantum/ibm-q-lab-widgets",
      "model_module_version": "^1.0.3",
      "model_name": "CircuitComposerModel",
      "state": {
       "_model_module_version": "^1.0.3",
       "_view_module_version": "^1.0.3",
       "circuit": "\"OPENQASM 2.0;\\ninclude \\\"qelib1.inc\\\";\\n\\nqreg q[3];\\ncreg c[3];\\n\\n\"",
       "editable": true,
       "layout": "IPY_MODEL_79bb9bb42bd343389845adba09f14732",
       "qiskit_code_cell_index": -1
      }
     },
     "1bae880ba3344b2da990bb64cd1a136d": {
      "model_module": "@jupyter-widgets/base",
      "model_module_version": "1.2.0",
      "model_name": "LayoutModel",
      "state": {}
     },
     "309e528bbafc40e1bd9ba9f7ffff2ebe": {
      "model_module": "@quantum/ibm-q-lab-widgets",
      "model_module_version": "^1.0.3",
      "model_name": "CircuitComposerModel",
      "state": {
       "_model_module_version": "^1.0.3",
       "_view_module_version": "^1.0.3",
       "circuit": "\"OPENQASM 2.0;\\ninclude \\\"qelib1.inc\\\";\\n\\nqreg q[3];\\ncreg c[3];\\n\\n\"",
       "editable": true,
       "layout": "IPY_MODEL_e8d9370ac33342d3a6307cda203b8999",
       "qiskit_code_cell_index": 5
      }
     },
     "31071d4f996046f4aaaccafab2c26200": {
      "model_module": "@quantum/ibm-q-lab-widgets",
      "model_module_version": "^1.0.3",
      "model_name": "CircuitComposerModel",
      "state": {
       "_model_module_version": "^1.0.3",
       "_view_module_version": "^1.0.3",
       "circuit": "\"OPENQASM 2.0;\\ninclude \\\"qelib1.inc\\\";\\n\\nqreg q[3];\\n\\n\"",
       "editable": true,
       "layout": "IPY_MODEL_9851f271b5f44defa82af06d7a41616a",
       "qiskit_code_cell_index": -1
      }
     },
     "3593cd4a26154d24ac8be67140dad497": {
      "model_module": "@quantum/ibm-q-lab-widgets",
      "model_module_version": "^1.0.3",
      "model_name": "CircuitComposerModel",
      "state": {
       "_model_module_version": "^1.0.3",
       "_view_module_version": "^1.0.3",
       "circuit": "\"OPENQASM 2.0;\\ninclude \\\"qelib1.inc\\\";\\n\\nqreg q[3];\\ncreg c[3];\\n\\nh q[0];\\nt q[0];\\nbarrier q[0];\\nh q[1];\\nh q[2];\\ncx q[1],q[2];\\nbarrier q[1];\\nbarrier q[2];\\nccx q[0],q[1],q[2];\\nsdg q[0];\\nmeasure q[0] -> c[0];\\nmeasure q[1] -> c[1];\\nmeasure q[2] -> c[2];\"",
       "editable": true,
       "layout": "IPY_MODEL_d3da6e0a533343e595fe9b5e86451e12",
       "qiskit_code_cell_index": -1
      }
     },
     "5cc2593bd8e34db28efc82baab5c7ef4": {
      "model_module": "@jupyter-widgets/base",
      "model_module_version": "1.2.0",
      "model_name": "LayoutModel",
      "state": {}
     },
     "6411abd56a0b425b91124920c652a56f": {
      "model_module": "@quantum/ibm-q-lab-widgets",
      "model_module_version": "^1.0.3",
      "model_name": "CircuitComposerModel",
      "state": {
       "_model_module_version": "^1.0.3",
       "_view_module_version": "^1.0.3",
       "circuit": "\"OPENQASM 2.0;\\ninclude \\\"qelib1.inc\\\";\\n\\nqreg q[3];\\ncreg c[3];\\n\\n\"",
       "editable": true,
       "layout": "IPY_MODEL_5cc2593bd8e34db28efc82baab5c7ef4",
       "qiskit_code_cell_index": -1
      }
     },
     "771c55bd490747a39101271fc336c450": {
      "model_module": "@quantum/ibm-q-lab-widgets",
      "model_module_version": "^1.0.3",
      "model_name": "CircuitComposerModel",
      "state": {
       "_model_module_version": "^1.0.3",
       "_view_module_version": "^1.0.3",
       "circuit": "\"OPENQASM 2.0;\\ninclude \\\"qelib1.inc\\\";\\n\\nqreg q[3];\\n\\nx q[0];\\nh q[0];\\nx q[1];\\nh q[1];\\nx q[2];\\nh q[2];\"",
       "editable": true,
       "layout": "IPY_MODEL_1bae880ba3344b2da990bb64cd1a136d",
       "qiskit_code_cell_index": -1
      }
     },
     "79bb9bb42bd343389845adba09f14732": {
      "model_module": "@jupyter-widgets/base",
      "model_module_version": "1.2.0",
      "model_name": "LayoutModel",
      "state": {}
     },
     "8f1991eb9ee4437a86c8fe9d5e502833": {
      "model_module": "@quantum/ibm-q-lab-widgets",
      "model_module_version": "^1.0.3",
      "model_name": "CircuitComposerModel",
      "state": {
       "_model_module_version": "^1.0.3",
       "_view_module_version": "^1.0.3",
       "circuit": "\"OPENQASM 2.0;\\ninclude \\\"qelib1.inc\\\";\\n\\nqreg q[3];\\ncreg c[3];\\n\\n\"",
       "editable": true,
       "layout": "IPY_MODEL_c7a83e1dc102400bb186470e03e8ac7e",
       "qiskit_code_cell_index": -1
      }
     },
     "9851f271b5f44defa82af06d7a41616a": {
      "model_module": "@jupyter-widgets/base",
      "model_module_version": "1.2.0",
      "model_name": "LayoutModel",
      "state": {}
     },
     "c7a83e1dc102400bb186470e03e8ac7e": {
      "model_module": "@jupyter-widgets/base",
      "model_module_version": "1.2.0",
      "model_name": "LayoutModel",
      "state": {}
     },
     "d3da6e0a533343e595fe9b5e86451e12": {
      "model_module": "@jupyter-widgets/base",
      "model_module_version": "1.2.0",
      "model_name": "LayoutModel",
      "state": {}
     },
     "e5f7f5b92e41468db84d24789711dd69": {
      "model_module": "@jupyter-widgets/base",
      "model_module_version": "1.2.0",
      "model_name": "LayoutModel",
      "state": {}
     },
     "e88f4be77d2d4f099543c5ac2089e501": {
      "model_module": "@quantum/ibm-q-lab-widgets",
      "model_module_version": "^1.0.3",
      "model_name": "CircuitComposerModel",
      "state": {
       "_model_module_version": "^1.0.3",
       "_view_module_version": "^1.0.3",
       "circuit": "\"OPENQASM 2.0;\\ninclude \\\"qelib1.inc\\\";\\n\\nqreg q[3];\\n\\n\"",
       "editable": true,
       "layout": "IPY_MODEL_e5f7f5b92e41468db84d24789711dd69",
       "qiskit_code_cell_index": -1
      }
     },
     "e8d9370ac33342d3a6307cda203b8999": {
      "model_module": "@jupyter-widgets/base",
      "model_module_version": "1.2.0",
      "model_name": "LayoutModel",
      "state": {}
     }
    },
    "version_major": 2,
    "version_minor": 0
   }
  }
 },
 "nbformat": 4,
 "nbformat_minor": 5
}
