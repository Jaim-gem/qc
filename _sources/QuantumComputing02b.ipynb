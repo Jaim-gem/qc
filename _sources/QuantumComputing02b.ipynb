{
 "cells": [
  {
   "cell_type": "markdown",
   "id": "15777789",
   "metadata": {},
   "source": [
    "(cold-cold)=\n",
    "# **Types of Quantum Computers** \n",
    "\n",
    "![quantumtypes](coldatoms.png)\n",
    "```{margin}\n",
    "Cold atoms in an optical lattice\n",
    "Credit: Science Magazine\n",
    "```\n",
    "\n",
    "&nbsp; \n",
    "\n",
    "In the last section, we covered *quite a lot* by looking at what we need to make a quantum computer and the steps of quantum computation. In this section, we'll look at some types of Quantum Computing and quantum computers. \n",
    "\n",
    "&nbsp; \n",
    "\n",
    "## Approaches to Quantum Computing \n",
    "\n",
    "I will briefly mention here some **approaches** to Quantum Computing.&nbsp; We will not go into too much detail. <br>\n",
    "An *approach* is simply a way to do computation on a quantum system. It is the way to manipulate, control and measure the quantum system. \n",
    "&nbsp;\n",
    "The two main approaches that one hears about a lot are: (1)&nbsp; **Gate-based Quantum Computing** and (2)&nbsp; **Adiabatic Quantum Computing**. \n",
    "\n",
    "The **Gate-based approach** is very much similar to how we do classical computation, with the exception being that we use qubits instead of classical bits. Once we have our qubits, we apply our \"gate operations\" also known as our \"circuit\".  \n",
    "\n",
    "The **Adiabatic approach** is less obvious, but relies on the **Adiabatic theorem** in Physics. The Adiabatic approach tells us to initialize our qubits in a particular *low-energy state* and then **slowly** apply changes to the qubits' environment. We are still *doing things* to the qubits but in a more precautious manner. The idea is that if we do it slowly enough and in the right way, the qubits don't \"budge too much\" energy-wise, and so that their final measured state most likely represents the lowest energy state of some *complex* problem. \n",
    "\n",
    "The Adiabatic approach is therefore very applicable to finding the best solution(s) to an **Optimization**-type problem.\n",
    "&nbsp; \n",
    "\n",
    "## Types of Qubits \n",
    "\n",
    "Apart from the specific approach used by a Quantum computer, we can differentiate types of Quantum computers according to the quantum objects that are used as qubits. Here are some of the main ones: \n",
    "\n",
    "- **Superconducting qubits**: A small electronic circuit containing a *Josephson* junction (which is made by thin non-superconducting material placed between two superconducting materials). The circuit operates like an *artificial atom* where electromagnetic radiation can be used to drive transitions between two energy-level states. \n",
    "\n",
    "- **Photonic qubits**: Quanta of light are called photons. Photonic qubits are therefore particles of light produced from a *coherent light source* (a laser). \n",
    "\n",
    "\n",
    "- **Cold atoms** trapped in an optical lattice (interfering laser beams). *See [Header Image](cold-cold)*.\n",
    "\n",
    "\n",
    "- **Trapped Ions**: \"Charged atoms\" that are controlled by electric and magnetic fields.   \n",
    "&nbsp; \n",
    "\n",
    "## What do Quantum Computers look like?\n",
    "\n",
    "\n",
    " This is what a quantum computer looks like!\n",
    "```{toggle}\n",
    "An IBM Quantum Computer\n",
    "![ibmcomp](https://6lli539m39y3hpkelqsm3c2fg-wpengine.netdna-ssl.com/wp-content/uploads/2019/09/IBM-Quantum-Device-640x380.jpg)\n",
    "Credit: IBM\n",
    "```\n",
    "&nbsp; \n",
    "And here's another one...\n",
    "```{toggle}\n",
    "A D-Wave Quantum Computer\n",
    "![dwavecomputer](https://static.scientificamerican.com/sciam/cache/file/ABFCEF88-8ADE-4212-BE44ABB88792D119_source.jpg?w=590&h=800&E979DE21-21CD-4B2F-980E3DFB40CA082B)\n",
    "Credit: D-wave\n",
    "```\n",
    "\n",
    "\n",
    "Quantum computers are large devices made to keep qubits in a *very cold* and *controlled* environment in order to separate them from anything that can disturb them and make them lose their \"quantumness\". **The temperatures in a quantum computer can be colder than Outerspace!**\n",
    "The actual **qubits** are located in a **quantum chip** also called a **quantum processing unit (QPU)** inside the computer and small enough to fit into the palm of your hand.  \n",
    "&nbsp;\n",
    "\n",
    "Here's a couple quantum chips for you to look at. \n",
    "\n",
    "```{toggle}\n",
    "![ibmchip](https://www.ibm.com/quantum-computing/_nuxt/img/16d424e.jpg)\n",
    "Credit: IBM\n",
    "\n",
    "![dwavechip](https://images.newscientist.com/wp-content/uploads/2015/08/dn28078-1_800.jpg)\n",
    "Credit: D-Wave\n",
    "```\n",
    "\n",
    "\n",
    "## Which Companies Make Quantum Computers? \n",
    "&nbsp; \n",
    "\n",
    "Companies that build quantum computers tend to specialize on using one particular approach to Quantum Computing and one type of qubit. Here are some Quantum Computing companies and the types of quantum computers they have: \n",
    "\n",
    "- [**IBM**](https://www.ibm.com/quantum-computing/) looks into Gate-based quantum computers and use **superconducting qubits**.\n",
    "\n",
    "\n",
    "- [**Google**](https://quantumai.google/) also applies the Gate-based approach with **superconducting qubits**. \n",
    "\n",
    "\n",
    "- [**Xanadu**](https://www.xanadu.ai/) makes **photonic** quantum computers with *squeezed light*. Below is a *cool video* on how their **photonic chips** work. "
   ]
  },
  {
   "cell_type": "code",
   "execution_count": 12,
   "id": "1481914a",
   "metadata": {
    "tags": [
     "remove-input"
    ]
   },
   "outputs": [
    {
     "data": {
      "image/jpeg": "[encoded data removed]",
      "text/html": [
       "\n",
       "        <iframe\n",
       "            width=\"400\"\n",
       "            height=\"300\"\n",
       "            src=\"https://www.youtube.com/embed/v7iAqcFCTQQ\"\n",
       "            frameborder=\"0\"\n",
       "            allowfullscreen\n",
       "            \n",
       "        ></iframe>\n",
       "        "
      ],
      "text/plain": [
       "<IPython.lib.display.YouTubeVideo at 0x204547371f0>"
      ]
     },
     "metadata": {},
     "output_type": "display_data"
    }
   ],
   "source": [
    "from IPython.display import YouTubeVideo \n",
    "video=YouTubeVideo(\"v7iAqcFCTQQ\")\n",
    "display(video)"
   ]
  },
  {
   "cell_type": "markdown",
   "id": "5b3763ab",
   "metadata": {},
   "source": [
    "- [**IonQ**](https://ionq.com/) uses ionized Ytterbium atoms (**trapped ions**) as qubits.\n",
    "\n",
    "\n",
    "- [**D-Wave**](https://www.dwavesys.com/) uses the **Adiabatic approach** with **superconducting qubits**. Here's a video on D-Wave's Quantum Annealer. \n"
   ]
  },
  {
   "cell_type": "code",
   "execution_count": 11,
   "id": "ed114433",
   "metadata": {
    "tags": [
     "remove-input"
    ]
   },
   "outputs": [
    {
     "data": {
      "text/html": [
       "\n",
       "        <iframe\n",
       "            width=\"400\"\n",
       "            height=\"300\"\n",
       "            src=\"https://www.youtube.com/embed/https://www.youtube.com/watch?v=8IKhRECvIYM\"\n",
       "            frameborder=\"0\"\n",
       "            allowfullscreen\n",
       "            \n",
       "        ></iframe>\n",
       "        "
      ],
      "text/plain": [
       "<IPython.lib.display.YouTubeVideo at 0x2045475de80>"
      ]
     },
     "metadata": {},
     "output_type": "display_data"
    }
   ],
   "source": [
    "from IPython.display import YouTubeVideo\n",
    "video=YouTubeVideo('https://www.youtube.com/watch?v=8IKhRECvIYM')\n",
    "display(video)"
   ]
  },
  {
   "cell_type": "markdown",
   "id": "f054edd7",
   "metadata": {},
   "source": [
    "&nbsp; \n"
   ]
  },
  {
   "cell_type": "markdown",
   "id": "39a66a72",
   "metadata": {},
   "source": [
    "# Short Quiz \n",
    "\n",
    "*Try to answer the following questions on your own, then click to reveal.*\n",
    "\n",
    "\n",
    "**What's the name of the Quantum Computing approach that is suitable for optimization-type problems?**\n",
    "\n",
    "```{toggle} \n",
    "**Adiabatic Quantum Computing** relies on the Adiabatic theorem in Physics, which tells us that if we start off in a **low-energy** state for some simple problem and *slowly* evolve our environment to a more difficult problem, then our system will end-up in a low-energy state for the more difficult problem. This type of Quantum Computing is suitable for optimization problems.    \n",
    "```\n",
    "\n",
    "\n",
    "**Which types of qubits are trapped between interfering laser beams?**\n",
    "\n",
    "```{toggle}\n",
    "Cold atoms are trapped in the *wells* of an optical lattice. *See Header Image*.\n",
    "```\n",
    "\n",
    "\n",
    "**Which types of qubits can be controlled by electric and magnetic fields?**\n",
    "\n",
    "```{toggle}\n",
    "Trapped ions! Ions are charged atoms and *being charged* means that they can be controlled with electric and magnetic fields. \n",
    "```\n",
    "\n",
    "\n",
    "**Which types of qubits behave like artificial atoms?**\n",
    "\n",
    "```{toggle}\n",
    "Superconducting qubits are actually small electronic circuits made using a special circuit element called a *Josephson junction*. The circuit behaves like an artificial atom with different **energy states**. By using electromagnetic radiation, we can control the transitions between these states. \n",
    "```\n",
    "\n",
    "\n",
    "**Which types of qubits are particles of light**\n",
    "\n",
    "```{toggle}\n",
    "Photonic qubits! The word \"photonic\" is from \"photon\", which is a particle of light.  \n",
    "```\n"
   ]
  }
 ],
 "metadata": {
  "kernelspec": {
   "display_name": "Python 3 (ipykernel)",
   "language": "python",
   "name": "python3"
  },
  "language_info": {
   "codemirror_mode": {
    "name": "ipython",
    "version": 3
   },
   "file_extension": ".py",
   "mimetype": "text/x-python",
   "name": "python",
   "nbconvert_exporter": "python",
   "pygments_lexer": "ipython3",
   "version": "3.8.12"
  }
 },
 "nbformat": 4,
 "nbformat_minor": 5
}
